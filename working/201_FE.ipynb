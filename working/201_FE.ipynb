{
 "cells": [
  {
   "cell_type": "markdown",
   "metadata": {},
   "source": [
    "**思路**\n",
    "\n",
    "1、修正方向。\n",
    "\n",
    "1、剔除无效的ship_ID:\n",
    "\n",
    "    train剔除，test不管。\n",
    "    \n",
    "    以三种作业方式各自的坐标阈值为条件剔除。\n",
    "    \n",
    "    拖网：\n",
    "    \n",
    "    围网：\n",
    "    \n",
    "    刺网：\n",
    "    \n",
    " 2、判断作业时段和非作业时段：\n",
    " \n",
    "    待思考？\n",
    "    \n",
    " 3、GPS异常值剔除/修正："
   ]
  },
  {
   "cell_type": "code",
   "execution_count": 1,
   "metadata": {},
   "outputs": [],
   "source": [
    "%matplotlib inline\n",
    "\n",
    "import pandas as pd\n",
    "import numpy as np\n",
    "import seaborn as sns\n",
    "import os\n",
    "from tqdm import tqdm\n",
    "\n",
    "import warnings\n",
    "\n",
    "import matplotlib.pyplot as plt\n",
    "\n",
    "from datetime import datetime as dt\n",
    "\n",
    "warnings.filterwarnings('ignore')"
   ]
  },
  {
   "cell_type": "code",
   "execution_count": 2,
   "metadata": {},
   "outputs": [],
   "source": [
    "train = pd.read_hdf('C:/Users/f3107/Desktop/hy_data/train_descending_deltatime.h5')\n",
    "train['datetime'] = pd.to_datetime(train['datetime'],train['delta_time'], format='%m%d %H:%M:%S')\n",
    "train['delta_time'] = train['delta_time'].dt.total_seconds().astype('int')\n",
    "\n",
    "test = pd.read_hdf('C:/Users/f3107/Desktop/hy_data/test_descending_deltatime.h5')\n",
    "test['datetime'] = pd.to_datetime(test['datetime'],test['delta_time'], format='%m%d %H:%M:%S')\n",
    "test['delta_time'] = test['delta_time'].dt.total_seconds().astype('int')"
   ]
  },
  {
   "cell_type": "markdown",
   "metadata": {},
   "source": [
    "#### 方向修正"
   ]
  },
  {
   "cell_type": "code",
   "execution_count": 3,
   "metadata": {},
   "outputs": [],
   "source": [
    "def delta_direction(df):\n",
    "    \n",
    "    df['delta_direction'] = abs(df['direction'].diff())\n",
    "    df['delta_direction'] = 180-abs(df['delta_direction']-180)\n",
    "    df['delta_direction'].fillna(0,inplace=True)\n",
    "    \n",
    "    return df"
   ]
  },
  {
   "cell_type": "code",
   "execution_count": 4,
   "metadata": {},
   "outputs": [],
   "source": [
    "train = delta_direction(train)\n",
    "test = delta_direction(test)"
   ]
  },
  {
   "cell_type": "markdown",
   "metadata": {},
   "source": [
    "#### 剔除无效的ship_ID"
   ]
  },
  {
   "cell_type": "code",
   "execution_count": 5,
   "metadata": {},
   "outputs": [],
   "source": [
    "def del_ship(train):\n",
    "    \n",
    "    train_label = train.drop_duplicates('ship_ID')\n",
    "\n",
    "    train_x = train['x'].groupby(train['ship_ID']).agg(['max','min']).reset_index().rename(columns = {'max':'x_max','min':'x_min'})\n",
    "    train_y = train['y'].groupby(train['ship_ID']).agg(['max','min']).reset_index().rename(columns = {'max':'y_max','min':'y_min'})\n",
    "    train_x['x_max_x_min'] = train_x['x_max'] - train_x['x_min']\n",
    "    train_y['y_max_y_min'] = train_y['y_max'] - train_y['y_min']\n",
    "\n",
    "    train_data = pd.merge(train_label[['ship_ID','type']], train_x, on ='ship_ID')\n",
    "    train_data = pd.merge(train_data, train_y, on ='ship_ID')\n",
    "\n",
    "    train_data_tuo = train_data[train_data['type']=='拖网']\n",
    "    del_tuo = list(train_data_tuo['ship_ID'][(train_data_tuo['x_max_x_min']<500)&(train_data_tuo['y_max_y_min']<500)])\n",
    "\n",
    "    train_data_ci = train_data[train_data['type']=='刺网']\n",
    "    del_ci = list(train_data_ci['ship_ID'][(train_data_ci['x_max_x_min']<100)&(train_data_ci['y_max_y_min']<100)])\n",
    "\n",
    "    train_data_wei = train_data[train_data['type']=='围网']\n",
    "    del_wei = list(train_data_wei['ship_ID'][(train_data_wei['x_max_x_min']<100)&(train_data_wei['y_max_y_min']<100)])\n",
    "\n",
    "    del_ship_ID = del_tuo+del_ci+del_wei\n",
    "    \n",
    "    return del_ship_ID"
   ]
  },
  {
   "cell_type": "code",
   "execution_count": 6,
   "metadata": {},
   "outputs": [],
   "source": [
    "del_ship_ID = del_ship(train)\n",
    "train = train[~train.ship_ID.isin(del_ship_ID)]"
   ]
  },
  {
   "cell_type": "code",
   "execution_count": null,
   "metadata": {},
   "outputs": [],
   "source": []
  }
 ],
 "metadata": {
  "kernelspec": {
   "display_name": "Python 3",
   "language": "python",
   "name": "python3"
  },
  "language_info": {
   "codemirror_mode": {
    "name": "ipython",
    "version": 3
   },
   "file_extension": ".py",
   "mimetype": "text/x-python",
   "name": "python",
   "nbconvert_exporter": "python",
   "pygments_lexer": "ipython3",
   "version": "3.7.3"
  }
 },
 "nbformat": 4,
 "nbformat_minor": 2
}
