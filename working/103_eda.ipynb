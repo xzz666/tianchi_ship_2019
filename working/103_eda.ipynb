{
 "cells": [
  {
   "cell_type": "code",
   "execution_count": 1,
   "metadata": {},
   "outputs": [],
   "source": [
    "%matplotlib inline\n",
    "\n",
    "import pandas as pd\n",
    "import numpy as np\n",
    "import seaborn as sns\n",
    "import os\n",
    "from tqdm import tqdm\n",
    "\n",
    "import warnings\n",
    "\n",
    "import matplotlib.pyplot as plt\n",
    "\n",
    "from datetime import datetime as dt\n",
    "\n",
    "warnings.filterwarnings('ignore')"
   ]
  },
  {
   "cell_type": "markdown",
   "metadata": {},
   "source": [
    "#### 导入数据"
   ]
  },
  {
   "cell_type": "code",
   "execution_count": 22,
   "metadata": {},
   "outputs": [],
   "source": [
    "train = pd.read_hdf('C:/Users/f3107/Desktop/hy_data/train_3.h5')"
   ]
  },
  {
   "cell_type": "code",
   "execution_count": 23,
   "metadata": {},
   "outputs": [
    {
     "data": {
      "text/html": [
       "<div>\n",
       "<style scoped>\n",
       "    .dataframe tbody tr th:only-of-type {\n",
       "        vertical-align: middle;\n",
       "    }\n",
       "\n",
       "    .dataframe tbody tr th {\n",
       "        vertical-align: top;\n",
       "    }\n",
       "\n",
       "    .dataframe thead th {\n",
       "        text-align: right;\n",
       "    }\n",
       "</style>\n",
       "<table border=\"1\" class=\"dataframe\">\n",
       "  <thead>\n",
       "    <tr style=\"text-align: right;\">\n",
       "      <th></th>\n",
       "      <th>ship_ID</th>\n",
       "      <th>x</th>\n",
       "      <th>y</th>\n",
       "      <th>speed_v</th>\n",
       "      <th>direction</th>\n",
       "      <th>datetime</th>\n",
       "      <th>type</th>\n",
       "      <th>delta_time</th>\n",
       "      <th>delta_direction</th>\n",
       "    </tr>\n",
       "  </thead>\n",
       "  <tbody>\n",
       "    <tr>\n",
       "      <th>413</th>\n",
       "      <td>0</td>\n",
       "      <td>6.118352e+06</td>\n",
       "      <td>5.130672e+06</td>\n",
       "      <td>0.0</td>\n",
       "      <td>0</td>\n",
       "      <td>1900-11-07 12:09:28</td>\n",
       "      <td>拖网</td>\n",
       "      <td>0</td>\n",
       "      <td>0.0</td>\n",
       "    </tr>\n",
       "    <tr>\n",
       "      <th>412</th>\n",
       "      <td>0</td>\n",
       "      <td>6.118352e+06</td>\n",
       "      <td>5.130672e+06</td>\n",
       "      <td>0.0</td>\n",
       "      <td>0</td>\n",
       "      <td>1900-11-07 12:18:30</td>\n",
       "      <td>拖网</td>\n",
       "      <td>542</td>\n",
       "      <td>0.0</td>\n",
       "    </tr>\n",
       "    <tr>\n",
       "      <th>411</th>\n",
       "      <td>0</td>\n",
       "      <td>6.118352e+06</td>\n",
       "      <td>5.130672e+06</td>\n",
       "      <td>0.0</td>\n",
       "      <td>0</td>\n",
       "      <td>1900-11-07 12:28:32</td>\n",
       "      <td>拖网</td>\n",
       "      <td>1144</td>\n",
       "      <td>0.0</td>\n",
       "    </tr>\n",
       "    <tr>\n",
       "      <th>410</th>\n",
       "      <td>0</td>\n",
       "      <td>6.118352e+06</td>\n",
       "      <td>5.130672e+06</td>\n",
       "      <td>0.0</td>\n",
       "      <td>0</td>\n",
       "      <td>1900-11-07 12:38:32</td>\n",
       "      <td>拖网</td>\n",
       "      <td>1744</td>\n",
       "      <td>0.0</td>\n",
       "    </tr>\n",
       "    <tr>\n",
       "      <th>409</th>\n",
       "      <td>0</td>\n",
       "      <td>6.118352e+06</td>\n",
       "      <td>5.130672e+06</td>\n",
       "      <td>0.0</td>\n",
       "      <td>0</td>\n",
       "      <td>1900-11-07 12:48:30</td>\n",
       "      <td>拖网</td>\n",
       "      <td>2342</td>\n",
       "      <td>0.0</td>\n",
       "    </tr>\n",
       "  </tbody>\n",
       "</table>\n",
       "</div>"
      ],
      "text/plain": [
       "     ship_ID             x             y  speed_v  direction  \\\n",
       "413        0  6.118352e+06  5.130672e+06      0.0          0   \n",
       "412        0  6.118352e+06  5.130672e+06      0.0          0   \n",
       "411        0  6.118352e+06  5.130672e+06      0.0          0   \n",
       "410        0  6.118352e+06  5.130672e+06      0.0          0   \n",
       "409        0  6.118352e+06  5.130672e+06      0.0          0   \n",
       "\n",
       "               datetime type  delta_time  delta_direction  \n",
       "413 1900-11-07 12:09:28   拖网           0              0.0  \n",
       "412 1900-11-07 12:18:30   拖网         542              0.0  \n",
       "411 1900-11-07 12:28:32   拖网        1144              0.0  \n",
       "410 1900-11-07 12:38:32   拖网        1744              0.0  \n",
       "409 1900-11-07 12:48:30   拖网        2342              0.0  "
      ]
     },
     "execution_count": 23,
     "metadata": {},
     "output_type": "execute_result"
    }
   ],
   "source": [
    "train.head()"
   ]
  },
  {
   "cell_type": "code",
   "execution_count": 13,
   "metadata": {},
   "outputs": [],
   "source": [
    "train['dx'] = train.x.diff()\n",
    "train['dy'] = train.y.diff()\n",
    "train['dt'] = train.delta_time.diff()\n",
    "\n",
    "train['dx'] = train.x.diff()\n",
    "train['dy'] = train.y.diff()\n",
    "\n",
    "train.loc[0,'dx'] = 0 \n",
    "train.loc[0,'dy'] = 0 "
   ]
  }
 ],
 "metadata": {
  "kernelspec": {
   "display_name": "Python 3",
   "language": "python",
   "name": "python3"
  },
  "language_info": {
   "codemirror_mode": {
    "name": "ipython",
    "version": 3
   },
   "file_extension": ".py",
   "mimetype": "text/x-python",
   "name": "python",
   "nbconvert_exporter": "python",
   "pygments_lexer": "ipython3",
   "version": "3.7.3"
  }
 },
 "nbformat": 4,
 "nbformat_minor": 2
}
