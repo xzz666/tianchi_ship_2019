{
 "cells": [
  {
   "cell_type": "code",
   "execution_count": 1,
   "metadata": {},
   "outputs": [],
   "source": [
    "%matplotlib inline\n",
    "\n",
    "import pandas as pd\n",
    "import numpy as np\n",
    "import os\n",
    "from tqdm import tqdm\n",
    "import lightgbm as lgb\n",
    "from sklearn.model_selection import StratifiedKFold\n",
    "from sklearn import metrics\n",
    "import warnings\n",
    "import matplotlib.pyplot as plt\n",
    "\n",
    "pd.set_option('display.max_columns', 100)\n",
    "warnings.filterwarnings('ignore')"
   ]
  },
  {
   "cell_type": "code",
   "execution_count": 2,
   "metadata": {},
   "outputs": [],
   "source": [
    "train_label = pd.read_hdf('C:/Users/f3107/Desktop/hy_data/train_204.h5')\n",
    "test_label = pd.read_hdf('C:/Users/f3107/Desktop/hy_data/test_204.h5')"
   ]
  },
  {
   "cell_type": "code",
   "execution_count": 3,
   "metadata": {},
   "outputs": [
    {
     "data": {
      "text/plain": [
       "拖网    0.623000\n",
       "围网    0.231571\n",
       "刺网    0.145429\n",
       "Name: type, dtype: float64"
      ]
     },
     "execution_count": 3,
     "metadata": {},
     "output_type": "execute_result"
    }
   ],
   "source": [
    "train_label['type'].value_counts(1)"
   ]
  },
  {
   "cell_type": "code",
   "execution_count": 4,
   "metadata": {},
   "outputs": [],
   "source": [
    "#LabelEncoder\n",
    "type_map = dict(zip(train_label['type'].unique(), np.arange(3)))\n",
    "type_map_rev = {v:k for k,v in type_map.items()}\n",
    "train_label['type'] = train_label['type'].map(type_map)"
   ]
  },
  {
   "cell_type": "code",
   "execution_count": 5,
   "metadata": {},
   "outputs": [],
   "source": [
    "features = [x for x in train_label.columns if x not in ['ship','x','y','v','d','datetime','type','t','d_d','d_t',\n",
    "                                                        'd_x','v_x','d_y','v_y','hour','date','diff_time']]\n",
    "target = 'type'"
   ]
  },
  {
   "cell_type": "code",
   "execution_count": 6,
   "metadata": {
    "scrolled": true
   },
   "outputs": [
    {
     "name": "stdout",
     "output_type": "stream",
     "text": [
      "59 x_max,x_min,x_mean,x_std,x_skew,x_sum,x_median,y_max,y_min,y_mean,y_std,y_skew,y_sum,y_median,v_max,v_min,v_mean,v_std,v_skew,v_sum,v_median,d_max,d_min,d_mean,d_std,d_skew,d_sum,d_median,x_max_x_min,y_max_y_min,y_max_x_min,x_max_y_min,slope_1,slope_2,area,mode_hour,v_cut_0.5_count_0.5,v_cut_0.5_count_1.0,v_cut_0.5_count_1.5,v_cut_0.5_count_2.0,v_cut_0.5_count_2.5,v_cut_0.5_count_3.0,v_cut_0.5_count_3.5,v_cut_0.5_count_4.0,v_cut_0.5_count_4.5,v_cut_0.5_count_5.0,v_cut_0.5_count_5.5,v_cut_0.5_count_6.0,v_cut_0.5_count_6.5,v_cut_0.5_count_7.0,v_cut_0.5_count_7.5,v_cut_0.5_count_8.0,v_cut_0.5_count_8.5,v_cut_0.5_count_9.0,v_cut_0.5_count_9.5,v_cut_0.5_count_10.0,v_cut_0.5_count_20.0,v_cut_tuo_count_6,v_cut_tuo_count_20\n"
     ]
    }
   ],
   "source": [
    "print(len(features), ','.join(features))"
   ]
  },
  {
   "cell_type": "code",
   "execution_count": 7,
   "metadata": {},
   "outputs": [],
   "source": [
    "params = {\n",
    "    'n_estimators': 5000,\n",
    "    'boosting_type': 'gbdt',\n",
    "    'objective': 'multiclass',\n",
    "    'num_class': 3,\n",
    "    'early_stopping_rounds': 100,\n",
    "    'feature_fraction': 0.6785634376053006,\n",
    "    'learning_rate': 0.019383601030181666,\n",
    "    'max_depth': 24,\n",
    "    'min_data_in_leaf': 5,\n",
    "    'min_gain_to_split': 0.05071488519451617,\n",
    "    'min_sum_hessian_in_leaf': 0.005378853072855871,\n",
    "    'num_leaves': 44\n",
    "}"
   ]
  },
  {
   "cell_type": "code",
   "execution_count": 8,
   "metadata": {},
   "outputs": [
    {
     "name": "stdout",
     "output_type": "stream",
     "text": [
      "Training until validation scores don't improve for 100 rounds\n",
      "[100]\ttraining's multi_logloss: 0.25138\tvalid_1's multi_logloss: 0.330457\n",
      "[200]\ttraining's multi_logloss: 0.121082\tvalid_1's multi_logloss: 0.241429\n",
      "[300]\ttraining's multi_logloss: 0.0696927\tvalid_1's multi_logloss: 0.216025\n",
      "[400]\ttraining's multi_logloss: 0.0426045\tvalid_1's multi_logloss: 0.205273\n",
      "[500]\ttraining's multi_logloss: 0.0267378\tvalid_1's multi_logloss: 0.200491\n",
      "[600]\ttraining's multi_logloss: 0.017499\tvalid_1's multi_logloss: 0.198659\n",
      "[700]\ttraining's multi_logloss: 0.0145448\tvalid_1's multi_logloss: 0.198192\n",
      "Early stopping, best iteration is:\n",
      "[654]\ttraining's multi_logloss: 0.0150141\tvalid_1's multi_logloss: 0.198054\n",
      "0 val f1 0.9023346953805086\n",
      "Training until validation scores don't improve for 100 rounds\n",
      "[100]\ttraining's multi_logloss: 0.249464\tvalid_1's multi_logloss: 0.339196\n",
      "[200]\ttraining's multi_logloss: 0.121022\tvalid_1's multi_logloss: 0.254569\n",
      "[300]\ttraining's multi_logloss: 0.0692292\tvalid_1's multi_logloss: 0.229613\n",
      "[400]\ttraining's multi_logloss: 0.0423998\tvalid_1's multi_logloss: 0.220451\n",
      "[500]\ttraining's multi_logloss: 0.0266134\tvalid_1's multi_logloss: 0.215831\n",
      "[600]\ttraining's multi_logloss: 0.0175335\tvalid_1's multi_logloss: 0.215375\n",
      "Early stopping, best iteration is:\n",
      "[561]\ttraining's multi_logloss: 0.020467\tvalid_1's multi_logloss: 0.215036\n",
      "1 val f1 0.8927707900036315\n",
      "Training until validation scores don't improve for 100 rounds\n",
      "[100]\ttraining's multi_logloss: 0.249075\tvalid_1's multi_logloss: 0.34215\n",
      "[200]\ttraining's multi_logloss: 0.122351\tvalid_1's multi_logloss: 0.265807\n",
      "[300]\ttraining's multi_logloss: 0.0704888\tvalid_1's multi_logloss: 0.242454\n",
      "[400]\ttraining's multi_logloss: 0.0430839\tvalid_1's multi_logloss: 0.231657\n",
      "[500]\ttraining's multi_logloss: 0.0272278\tvalid_1's multi_logloss: 0.227578\n",
      "[600]\ttraining's multi_logloss: 0.0179344\tvalid_1's multi_logloss: 0.227397\n",
      "[700]\ttraining's multi_logloss: 0.0143673\tvalid_1's multi_logloss: 0.225372\n",
      "[800]\ttraining's multi_logloss: 0.0143663\tvalid_1's multi_logloss: 0.225369\n",
      "Early stopping, best iteration is:\n",
      "[703]\ttraining's multi_logloss: 0.0143663\tvalid_1's multi_logloss: 0.225369\n",
      "2 val f1 0.8986853524897004\n",
      "Training until validation scores don't improve for 100 rounds\n",
      "[100]\ttraining's multi_logloss: 0.251656\tvalid_1's multi_logloss: 0.333435\n",
      "[200]\ttraining's multi_logloss: 0.122501\tvalid_1's multi_logloss: 0.247571\n",
      "[300]\ttraining's multi_logloss: 0.0704075\tvalid_1's multi_logloss: 0.225173\n",
      "[400]\ttraining's multi_logloss: 0.0430288\tvalid_1's multi_logloss: 0.214878\n",
      "[500]\ttraining's multi_logloss: 0.0271137\tvalid_1's multi_logloss: 0.210725\n",
      "[600]\ttraining's multi_logloss: 0.0176492\tvalid_1's multi_logloss: 0.209792\n",
      "Early stopping, best iteration is:\n",
      "[572]\ttraining's multi_logloss: 0.0197494\tvalid_1's multi_logloss: 0.20968\n",
      "3 val f1 0.9053129505043463\n",
      "Training until validation scores don't improve for 100 rounds\n",
      "[100]\ttraining's multi_logloss: 0.248583\tvalid_1's multi_logloss: 0.341009\n",
      "[200]\ttraining's multi_logloss: 0.12061\tvalid_1's multi_logloss: 0.251768\n",
      "[300]\ttraining's multi_logloss: 0.0695981\tvalid_1's multi_logloss: 0.22723\n",
      "[400]\ttraining's multi_logloss: 0.0423888\tvalid_1's multi_logloss: 0.219116\n",
      "[500]\ttraining's multi_logloss: 0.0265456\tvalid_1's multi_logloss: 0.215472\n",
      "[600]\ttraining's multi_logloss: 0.0174598\tvalid_1's multi_logloss: 0.215477\n",
      "Early stopping, best iteration is:\n",
      "[553]\ttraining's multi_logloss: 0.0211059\tvalid_1's multi_logloss: 0.214963\n",
      "4 val f1 0.895693186633058\n"
     ]
    }
   ],
   "source": [
    "fold = StratifiedKFold(n_splits=5, shuffle=True, random_state=42)\n",
    "\n",
    "X = train_label[features].copy()\n",
    "y = train_label[target]\n",
    "models = []\n",
    "pred = np.zeros((len(test_label),3))\n",
    "oof = np.zeros((len(X), 3))\n",
    "for index, (train_idx, val_idx) in enumerate(fold.split(X, y)):\n",
    "\n",
    "    train_set = lgb.Dataset(X.iloc[train_idx], y.iloc[train_idx])\n",
    "    val_set = lgb.Dataset(X.iloc[val_idx], y.iloc[val_idx])\n",
    "\n",
    "    model = lgb.train(params, train_set, valid_sets=[train_set, val_set], verbose_eval=100)\n",
    "    models.append(model)\n",
    "    val_pred = model.predict(X.iloc[val_idx])\n",
    "    oof[val_idx] = val_pred\n",
    "    val_y = y.iloc[val_idx]\n",
    "    val_pred = np.argmax(val_pred, axis=1)\n",
    "    print(index, 'val f1', metrics.f1_score(val_y, val_pred, average='macro'))\n",
    "    # 0.8695539641133697\n",
    "    # 0.8866211724839532\n",
    "\n",
    "    #test_pred = model.predict(test_label[features])\n",
    "    #pred += test_pred/5"
   ]
  },
  {
   "cell_type": "code",
   "execution_count": 9,
   "metadata": {},
   "outputs": [
    {
     "name": "stdout",
     "output_type": "stream",
     "text": [
      "oof f1 0.8989392378137055\n"
     ]
    }
   ],
   "source": [
    "oof = np.argmax(oof, axis=1)\n",
    "print('oof f1', metrics.f1_score(oof, y, average='macro'))\n",
    "\n",
    "# 0.8866228588851547 - corr, v_count_0.5, v_count_tuo [0.7, 6.5, 20] , v_corr_tuo      \n",
    "# 0.8874926343083475 - v_count_0.5, v_count_tuo [0, 2, 6, 20]\n",
    "# 0.8884029972976388 - v_count_0.5, v_count_tuo [0, 2, 6, 20], median\n",
    "# 0.8939494737221377 - v_count_0.5, v_count_tuo [2, 6, 20], median                   *\n",
    "# 0.890917528266248  - v_count_0.5, v_count_tuo [2, 6], median"
   ]
  },
  {
   "cell_type": "code",
   "execution_count": 11,
   "metadata": {},
   "outputs": [
    {
     "name": "stdout",
     "output_type": "stream",
     "text": [
      "Training until validation scores don't improve for 100 rounds\n",
      "[100]\ttraining's multi_logloss: 0.261626\n",
      "[200]\ttraining's multi_logloss: 0.134967\n",
      "[300]\ttraining's multi_logloss: 0.0825461\n",
      "[400]\ttraining's multi_logloss: 0.0533497\n",
      "[500]\ttraining's multi_logloss: 0.0358524\n",
      "[600]\ttraining's multi_logloss: 0.0246185\n",
      "[700]\ttraining's multi_logloss: 0.0172716\n",
      "[800]\ttraining's multi_logloss: 0.014622\n",
      "[900]\ttraining's multi_logloss: 0.014622\n",
      "[1000]\ttraining's multi_logloss: 0.014622\n",
      "[1100]\ttraining's multi_logloss: 0.014622\n",
      "[1200]\ttraining's multi_logloss: 0.014622\n",
      "[1300]\ttraining's multi_logloss: 0.014622\n",
      "[1400]\ttraining's multi_logloss: 0.014622\n",
      "[1500]\ttraining's multi_logloss: 0.014622\n",
      "[1600]\ttraining's multi_logloss: 0.014622\n",
      "[1700]\ttraining's multi_logloss: 0.014622\n",
      "[1800]\ttraining's multi_logloss: 0.014622\n",
      "[1900]\ttraining's multi_logloss: 0.014622\n",
      "[2000]\ttraining's multi_logloss: 0.014622\n",
      "[2100]\ttraining's multi_logloss: 0.014622\n",
      "[2200]\ttraining's multi_logloss: 0.014622\n",
      "[2300]\ttraining's multi_logloss: 0.014622\n",
      "[2400]\ttraining's multi_logloss: 0.014622\n",
      "[2500]\ttraining's multi_logloss: 0.014622\n",
      "[2600]\ttraining's multi_logloss: 0.014622\n",
      "[2700]\ttraining's multi_logloss: 0.014622\n",
      "[2800]\ttraining's multi_logloss: 0.014622\n",
      "[2900]\ttraining's multi_logloss: 0.014622\n",
      "[3000]\ttraining's multi_logloss: 0.014622\n",
      "[3100]\ttraining's multi_logloss: 0.014622\n",
      "[3200]\ttraining's multi_logloss: 0.014622\n",
      "[3300]\ttraining's multi_logloss: 0.014622\n",
      "[3400]\ttraining's multi_logloss: 0.014622\n",
      "[3500]\ttraining's multi_logloss: 0.014622\n",
      "[3600]\ttraining's multi_logloss: 0.014622\n",
      "[3700]\ttraining's multi_logloss: 0.014622\n",
      "[3800]\ttraining's multi_logloss: 0.014622\n",
      "[3900]\ttraining's multi_logloss: 0.014622\n",
      "[4000]\ttraining's multi_logloss: 0.014622\n",
      "[4100]\ttraining's multi_logloss: 0.014622\n",
      "[4200]\ttraining's multi_logloss: 0.014622\n",
      "[4300]\ttraining's multi_logloss: 0.014622\n",
      "[4400]\ttraining's multi_logloss: 0.014622\n",
      "[4500]\ttraining's multi_logloss: 0.014622\n",
      "[4600]\ttraining's multi_logloss: 0.014622\n",
      "[4700]\ttraining's multi_logloss: 0.014622\n",
      "[4800]\ttraining's multi_logloss: 0.014622\n",
      "[4900]\ttraining's multi_logloss: 0.014622\n",
      "[5000]\ttraining's multi_logloss: 0.014622\n",
      "Did not meet early stopping. Best iteration is:\n",
      "[786]\ttraining's multi_logloss: 0.014622\n"
     ]
    }
   ],
   "source": [
    "train_set = lgb.Dataset(X, y)\n",
    "model = lgb.train(params, train_set, valid_sets=[train_set], verbose_eval=100)\n",
    "pred = model.predict(test_label[features])"
   ]
  },
  {
   "cell_type": "code",
   "execution_count": 15,
   "metadata": {},
   "outputs": [
    {
     "data": {
      "text/plain": [
       "array([[1.04361683e-04, 9.99852066e-01, 4.35719598e-05],\n",
       "       [9.99805881e-01, 1.66374758e-04, 2.77442906e-05],\n",
       "       [1.42367674e-01, 7.99469083e-01, 5.81632438e-02],\n",
       "       ...,\n",
       "       [3.33133362e-03, 8.89131726e-01, 1.07536941e-01],\n",
       "       [9.99413588e-01, 3.27985150e-04, 2.58427192e-04],\n",
       "       [1.72842773e-02, 6.84825971e-01, 2.97889752e-01]])"
      ]
     },
     "execution_count": 15,
     "metadata": {},
     "output_type": "execute_result"
    }
   ],
   "source": [
    "pred"
   ]
  },
  {
   "cell_type": "code",
   "execution_count": 16,
   "metadata": {},
   "outputs": [
    {
     "name": "stdout",
     "output_type": "stream",
     "text": [
      "0    0.6305\n",
      "1    0.2365\n",
      "2    0.1330\n",
      "Name: pred, dtype: float64\n"
     ]
    }
   ],
   "source": [
    "pred = np.argmax(pred, axis=1)\n",
    "sub = test_label[['ship']]\n",
    "sub['pred'] = pred\n",
    "\n",
    "print(sub['pred'].value_counts(1))\n",
    "sub['pred'] = sub['pred'].map(type_map_rev)\n",
    "#sub.to_csv('result.csv', index=None, header=None)"
   ]
  },
  {
   "cell_type": "code",
   "execution_count": 17,
   "metadata": {},
   "outputs": [
    {
     "data": {
      "text/html": [
       "<div>\n",
       "<style scoped>\n",
       "    .dataframe tbody tr th:only-of-type {\n",
       "        vertical-align: middle;\n",
       "    }\n",
       "\n",
       "    .dataframe tbody tr th {\n",
       "        vertical-align: top;\n",
       "    }\n",
       "\n",
       "    .dataframe thead th {\n",
       "        text-align: right;\n",
       "    }\n",
       "</style>\n",
       "<table border=\"1\" class=\"dataframe\">\n",
       "  <thead>\n",
       "    <tr style=\"text-align: right;\">\n",
       "      <th></th>\n",
       "      <th>ship</th>\n",
       "      <th>pred</th>\n",
       "    </tr>\n",
       "  </thead>\n",
       "  <tbody>\n",
       "    <tr>\n",
       "      <th>0</th>\n",
       "      <td>7000</td>\n",
       "      <td>围网</td>\n",
       "    </tr>\n",
       "    <tr>\n",
       "      <th>1</th>\n",
       "      <td>7001</td>\n",
       "      <td>拖网</td>\n",
       "    </tr>\n",
       "    <tr>\n",
       "      <th>2</th>\n",
       "      <td>7002</td>\n",
       "      <td>围网</td>\n",
       "    </tr>\n",
       "    <tr>\n",
       "      <th>3</th>\n",
       "      <td>7003</td>\n",
       "      <td>拖网</td>\n",
       "    </tr>\n",
       "    <tr>\n",
       "      <th>4</th>\n",
       "      <td>7004</td>\n",
       "      <td>围网</td>\n",
       "    </tr>\n",
       "  </tbody>\n",
       "</table>\n",
       "</div>"
      ],
      "text/plain": [
       "   ship pred\n",
       "0  7000   围网\n",
       "1  7001   拖网\n",
       "2  7002   围网\n",
       "3  7003   拖网\n",
       "4  7004   围网"
      ]
     },
     "execution_count": 17,
     "metadata": {},
     "output_type": "execute_result"
    }
   ],
   "source": [
    "sub.head()"
   ]
  },
  {
   "cell_type": "code",
   "execution_count": 18,
   "metadata": {},
   "outputs": [],
   "source": [
    "sub.to_csv('C:/Users/f3107/Desktop/hy_data/2020年2月6日/result_0206_lgb.csv', index=None, header=None)"
   ]
  }
 ],
 "metadata": {
  "kernelspec": {
   "display_name": "Python 3",
   "language": "python",
   "name": "python3"
  },
  "language_info": {
   "codemirror_mode": {
    "name": "ipython",
    "version": 3
   },
   "file_extension": ".py",
   "mimetype": "text/x-python",
   "name": "python",
   "nbconvert_exporter": "python",
   "pygments_lexer": "ipython3",
   "version": "3.7.3"
  },
  "toc": {
   "base_numbering": 1,
   "nav_menu": {},
   "number_sections": true,
   "sideBar": true,
   "skip_h1_title": false,
   "title_cell": "Table of Contents",
   "title_sidebar": "Contents",
   "toc_cell": false,
   "toc_position": {},
   "toc_section_display": true,
   "toc_window_display": false
  }
 },
 "nbformat": 4,
 "nbformat_minor": 2
}
