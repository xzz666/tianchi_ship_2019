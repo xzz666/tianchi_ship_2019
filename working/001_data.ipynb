{
 "cells": [
  {
   "cell_type": "code",
   "execution_count": 1,
   "metadata": {},
   "outputs": [],
   "source": [
    "import pandas as pd\n",
    "import numpy as np\n",
    "import os\n",
    "from tqdm import tqdm\n",
    "import lightgbm as lgb\n",
    "from sklearn.model_selection import StratifiedKFold\n",
    "from sklearn import metrics\n",
    "import warnings\n",
    "\n",
    "warnings.filterwarnings('ignore')\n",
    "\n",
    "train_path = 'C:/Users/f3107/Desktop/hy_data/hy_round1_train_20200102'\n",
    "test_path = 'C:/Users/f3107/Desktop/hy_data/hy_round1_testA_20200102'"
   ]
  },
  {
   "cell_type": "markdown",
   "metadata": {},
   "source": [
    "### 文件夹基本信息"
   ]
  },
  {
   "cell_type": "code",
   "execution_count": 2,
   "metadata": {},
   "outputs": [
    {
     "name": "stdout",
     "output_type": "stream",
     "text": [
      "7000 2000\n"
     ]
    }
   ],
   "source": [
    "train_files = os.listdir(train_path)\n",
    "test_files = os.listdir(test_path)\n",
    "print(len(train_files), len(test_files))"
   ]
  },
  {
   "cell_type": "code",
   "execution_count": 3,
   "metadata": {
    "scrolled": true
   },
   "outputs": [
    {
     "data": {
      "text/plain": [
       "['0.csv', '1.csv', '10.csv']"
      ]
     },
     "execution_count": 3,
     "metadata": {},
     "output_type": "execute_result"
    }
   ],
   "source": [
    "train_files[:3]"
   ]
  },
  {
   "cell_type": "code",
   "execution_count": 4,
   "metadata": {},
   "outputs": [
    {
     "data": {
      "text/plain": [
       "['7000.csv', '7001.csv', '7002.csv']"
      ]
     },
     "execution_count": 4,
     "metadata": {},
     "output_type": "execute_result"
    }
   ],
   "source": [
    "test_files[:3]"
   ]
  },
  {
   "cell_type": "markdown",
   "metadata": {},
   "source": [
    "### 单个文件内容"
   ]
  },
  {
   "cell_type": "code",
   "execution_count": 5,
   "metadata": {},
   "outputs": [],
   "source": [
    "df = pd.read_csv(f'{train_path}/6966.csv')"
   ]
  },
  {
   "cell_type": "code",
   "execution_count": 6,
   "metadata": {},
   "outputs": [
    {
     "data": {
      "text/html": [
       "<div>\n",
       "<style scoped>\n",
       "    .dataframe tbody tr th:only-of-type {\n",
       "        vertical-align: middle;\n",
       "    }\n",
       "\n",
       "    .dataframe tbody tr th {\n",
       "        vertical-align: top;\n",
       "    }\n",
       "\n",
       "    .dataframe thead th {\n",
       "        text-align: right;\n",
       "    }\n",
       "</style>\n",
       "<table border=\"1\" class=\"dataframe\">\n",
       "  <thead>\n",
       "    <tr style=\"text-align: right;\">\n",
       "      <th></th>\n",
       "      <th>渔船ID</th>\n",
       "      <th>x</th>\n",
       "      <th>y</th>\n",
       "      <th>速度</th>\n",
       "      <th>方向</th>\n",
       "      <th>time</th>\n",
       "      <th>type</th>\n",
       "    </tr>\n",
       "  </thead>\n",
       "  <tbody>\n",
       "    <tr>\n",
       "      <th>0</th>\n",
       "      <td>6966</td>\n",
       "      <td>6.265902e+06</td>\n",
       "      <td>5.279254e+06</td>\n",
       "      <td>0.11</td>\n",
       "      <td>306</td>\n",
       "      <td>1106 23:58:16</td>\n",
       "      <td>围网</td>\n",
       "    </tr>\n",
       "    <tr>\n",
       "      <th>1</th>\n",
       "      <td>6966</td>\n",
       "      <td>6.265902e+06</td>\n",
       "      <td>5.279254e+06</td>\n",
       "      <td>0.00</td>\n",
       "      <td>0</td>\n",
       "      <td>1106 23:48:21</td>\n",
       "      <td>围网</td>\n",
       "    </tr>\n",
       "    <tr>\n",
       "      <th>2</th>\n",
       "      <td>6966</td>\n",
       "      <td>6.265902e+06</td>\n",
       "      <td>5.279254e+06</td>\n",
       "      <td>0.00</td>\n",
       "      <td>0</td>\n",
       "      <td>1106 23:38:19</td>\n",
       "      <td>围网</td>\n",
       "    </tr>\n",
       "    <tr>\n",
       "      <th>3</th>\n",
       "      <td>6966</td>\n",
       "      <td>6.265902e+06</td>\n",
       "      <td>5.279254e+06</td>\n",
       "      <td>0.00</td>\n",
       "      <td>0</td>\n",
       "      <td>1106 23:28:36</td>\n",
       "      <td>围网</td>\n",
       "    </tr>\n",
       "    <tr>\n",
       "      <th>4</th>\n",
       "      <td>6966</td>\n",
       "      <td>6.265902e+06</td>\n",
       "      <td>5.279254e+06</td>\n",
       "      <td>0.32</td>\n",
       "      <td>130</td>\n",
       "      <td>1106 23:08:17</td>\n",
       "      <td>围网</td>\n",
       "    </tr>\n",
       "  </tbody>\n",
       "</table>\n",
       "</div>"
      ],
      "text/plain": [
       "   渔船ID             x             y    速度   方向           time type\n",
       "0  6966  6.265902e+06  5.279254e+06  0.11  306  1106 23:58:16   围网\n",
       "1  6966  6.265902e+06  5.279254e+06  0.00    0  1106 23:48:21   围网\n",
       "2  6966  6.265902e+06  5.279254e+06  0.00    0  1106 23:38:19   围网\n",
       "3  6966  6.265902e+06  5.279254e+06  0.00    0  1106 23:28:36   围网\n",
       "4  6966  6.265902e+06  5.279254e+06  0.32  130  1106 23:08:17   围网"
      ]
     },
     "execution_count": 6,
     "metadata": {},
     "output_type": "execute_result"
    }
   ],
   "source": [
    "df.head()"
   ]
  },
  {
   "cell_type": "markdown",
   "metadata": {},
   "source": [
    "### 整合单个文件"
   ]
  },
  {
   "cell_type": "markdown",
   "metadata": {},
   "source": [
    "#### train"
   ]
  },
  {
   "cell_type": "code",
   "execution_count": null,
   "metadata": {},
   "outputs": [
    {
     "name": "stderr",
     "output_type": "stream",
     "text": [
      " 20%|███████████████▊                                                             | 1432/7000 [00:03<00:12, 458.65it/s]"
     ]
    }
   ],
   "source": [
    "#未处理，时间倒序\n",
    "ret = []\n",
    "for file in tqdm(train_files):\n",
    "    df = pd.read_csv(f'{train_path}/{file}')\n",
    "    ret.append(df)\n",
    "df = pd.concat(ret)\n",
    "df.columns = ['ship_ID','x','y','speed_v','direction','datetime','type']"
   ]
  },
  {
   "cell_type": "code",
   "execution_count": null,
   "metadata": {},
   "outputs": [],
   "source": [
    "df.to_hdf('C:/Users/f3107/Desktop/hy_data/train.h5', 'df', mode='w')"
   ]
  },
  {
   "cell_type": "code",
   "execution_count": null,
   "metadata": {},
   "outputs": [],
   "source": [
    "#已处理，时间顺序\n",
    "ret = []\n",
    "for file in tqdm(train_files):\n",
    "    df = pd.read_csv(f'{train_path}/{file}')\n",
    "    df = df.sort_index(ascending=False)\n",
    "    ret.append(df)\n",
    "df = pd.concat(ret)\n",
    "df.columns = ['ship_ID','x','y','speed_v','direction','datetime','type']"
   ]
  },
  {
   "cell_type": "code",
   "execution_count": null,
   "metadata": {},
   "outputs": [],
   "source": [
    "df.to_hdf('C:/Users/f3107/Desktop/hy_data/train_descending.h5', 'df', mode='w')"
   ]
  },
  {
   "cell_type": "markdown",
   "metadata": {},
   "source": [
    "#### test"
   ]
  },
  {
   "cell_type": "code",
   "execution_count": null,
   "metadata": {},
   "outputs": [],
   "source": [
    "#未处理，时间倒序\n",
    "ret = []\n",
    "for file in tqdm(test_files):\n",
    "    df = pd.read_csv(f'{test_path}/{file}')\n",
    "    ret.append(df)\n",
    "df = pd.concat(ret)\n",
    "df.columns = ['ship_ID','x','y','speed_v','direction','datetime','type']"
   ]
  },
  {
   "cell_type": "code",
   "execution_count": null,
   "metadata": {},
   "outputs": [],
   "source": [
    "df.to_hdf('C:/Users/f3107/Desktop/hy_data/test.h5', 'df', mode='w')"
   ]
  },
  {
   "cell_type": "code",
   "execution_count": null,
   "metadata": {},
   "outputs": [],
   "source": [
    "#已处理，时间顺序\n",
    "ret = []\n",
    "for file in tqdm(test_files):\n",
    "    df = pd.read_csv(f'{test_path}/{file}')\n",
    "    df = df.sort_index(ascending=False)\n",
    "    ret.append(df)\n",
    "df = pd.concat(ret)\n",
    "df.columns = ['ship_ID','x','y','speed_v','direction','datetime','type']"
   ]
  },
  {
   "cell_type": "code",
   "execution_count": null,
   "metadata": {},
   "outputs": [],
   "source": [
    "df.to_hdf('C:/Users/f3107/Desktop/hy_data/test_descending.h5', 'df', mode='w')"
   ]
  }
 ],
 "metadata": {
  "kernelspec": {
   "display_name": "Python 3",
   "language": "python",
   "name": "python3"
  },
  "language_info": {
   "codemirror_mode": {
    "name": "ipython",
    "version": 3
   },
   "file_extension": ".py",
   "mimetype": "text/x-python",
   "name": "python",
   "nbconvert_exporter": "python",
   "pygments_lexer": "ipython3",
   "version": "3.7.3"
  },
  "toc": {
   "base_numbering": 1,
   "nav_menu": {},
   "number_sections": true,
   "sideBar": true,
   "skip_h1_title": false,
   "title_cell": "Table of Contents",
   "title_sidebar": "Contents",
   "toc_cell": false,
   "toc_position": {},
   "toc_section_display": true,
   "toc_window_display": false
  }
 },
 "nbformat": 4,
 "nbformat_minor": 2
}
